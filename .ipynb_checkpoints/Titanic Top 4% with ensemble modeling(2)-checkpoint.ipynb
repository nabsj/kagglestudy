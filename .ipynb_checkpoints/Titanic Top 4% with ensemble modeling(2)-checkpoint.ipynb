{
 "cells": [
  {
   "cell_type": "code",
   "execution_count": 1,
   "id": "15e6ac8a",
   "metadata": {},
   "outputs": [],
   "source": [
    "import pandas as pd\n",
    "import numpy as np\n",
    "import matplotlib.pyplot as plt\n",
    "import seaborn as sns\n",
    "%matplotlib inline\n",
    "\n",
    "from collections import Counter\n",
    "\n",
    "from sklearn.ensemble import RandomForestClassifier, AdaBoostClassifier, GradientBoostingClassifier, ExtraTreesClassifier, VotingClassifier\n",
    "from sklearn.discriminant_analysis import LinearDiscriminantAnalysis\n",
    "from sklearn.linear_model import LogisticRegression\n",
    "from sklearn.neighbors import KNeighborsClassifier\n",
    "from sklearn.tree import DecisionTreeClassifier\n",
    "from sklearn.neural_network import MLPClassifier\n",
    "from sklearn.svm import SVC\n",
    "from sklearn.model_selection import GridSearchCV, cross_val_score, StratifiedKFold, learning_curve\n",
    "\n",
    "sns.set(style='white', context='notebook', palette='deep')\n",
    "\n",
    "##warning 무시 추가\n",
    "import warnings\n",
    "warnings.filterwarnings('ignore')"
   ]
  },
  {
   "cell_type": "markdown",
   "id": "4dbde2f0",
   "metadata": {},
   "source": [
    "### 2.1 Load data"
   ]
  },
  {
   "cell_type": "code",
   "execution_count": 2,
   "id": "143c0e07",
   "metadata": {},
   "outputs": [],
   "source": [
    "# Load data(데이터 불러오기)\n",
    "##### Load train and Test set\n",
    "\n",
    "train = pd.read_csv(\"data/titanic/train.csv\") ##891 X 12\n",
    "test = pd.read_csv(\"data/titanic/test.csv\") ## 418 X 11\n",
    "IDtest = test[\"PassengerId\"]"
   ]
  },
  {
   "cell_type": "markdown",
   "id": "ecb60402",
   "metadata": {},
   "source": [
    "### 2.2 Outlier detection //이상치 탐색"
   ]
  },
  {
   "cell_type": "code",
   "execution_count": 3,
   "id": "93e573f4",
   "metadata": {},
   "outputs": [],
   "source": [
    "# Outlier detection 이상치 탐색\n",
    "\n",
    "def detect_outliers(df, n, features):\n",
    "    'df의 feature들을 가져오고, '\n",
    "    outlier_indices = []\n",
    "    \n",
    "    # iterate over features(columns)\n",
    "    for col in features:\n",
    "        # 1st quartile (25%)\n",
    "        Q1 = np.percentile(df[col], 25) ## 1사분위수 구하기\n",
    "        # 3rd quartile (75%)\n",
    "        Q3 = np.percentile(df[col], 75) ## 3사분위수 구하기\n",
    "        # Interquartile range (IQR)\n",
    "        IQR = Q3 - Q1 #3사분위수 - 1사분위수 = IQR\n",
    "        \n",
    "        # outlier step\n",
    "        outlier_step = 1.5 * IQR\n",
    "        \n",
    "        # Determine a list of indices of outliers for feature col\n",
    "        outlier_list_col = df[(df[col] < Q1 - outlier_step) | (df[col] > Q3 + outlier_step )].index\n",
    "        \n",
    "        # append the found outlier indices for col to the list of outlier indices \n",
    "        outlier_indices.extend(outlier_list_col) #이상치들을 리스트에 추가\n",
    "        \n",
    "    # select observations containing more than 2 outliers ## 두번이상의 이상치들을 추가\n",
    "    outlier_indices = Counter(outlier_indices) ## 같은 index가 두번인것들을 찾기 위해 counter 함수 사용\n",
    "    ## counter 함수 사용으로 dictionary 상태로 나오기 때문에\n",
    "    multiple_outliers = list( k for k, v in outlier_indices.items() if v > n )\n",
    "    ## k, v (key: value)로 리스트 정리하고, v는 몇번 나왔는지 횟수, v > n 은 n번이상 나온 index를 찾는방법\n",
    "    \n",
    "    return multiple_outliers   \n",
    "\n",
    "# detect outliers from Age, SibSp , Parch and Fare\n",
    "Outliers_to_drop = detect_outliers(train,2,[\"Age\",\"SibSp\",\"Parch\",\"Fare\"])\n",
    "\n",
    "\n",
    "#이상치 처리 방법\n",
    "#Minimun = Q1 - 1.5 * IQR , Maximum = Q3 + 1.5 * IQR\n",
    "#Min , Max 사이 그외의 있는 수는 이상치로 간주한다\n"
   ]
  },
  {
   "cell_type": "code",
   "execution_count": 4,
   "id": "420526b7",
   "metadata": {},
   "outputs": [
    {
     "data": {
      "text/html": [
       "<div>\n",
       "<style scoped>\n",
       "    .dataframe tbody tr th:only-of-type {\n",
       "        vertical-align: middle;\n",
       "    }\n",
       "\n",
       "    .dataframe tbody tr th {\n",
       "        vertical-align: top;\n",
       "    }\n",
       "\n",
       "    .dataframe thead th {\n",
       "        text-align: right;\n",
       "    }\n",
       "</style>\n",
       "<table border=\"1\" class=\"dataframe\">\n",
       "  <thead>\n",
       "    <tr style=\"text-align: right;\">\n",
       "      <th></th>\n",
       "      <th>PassengerId</th>\n",
       "      <th>Survived</th>\n",
       "      <th>Pclass</th>\n",
       "      <th>Name</th>\n",
       "      <th>Sex</th>\n",
       "      <th>Age</th>\n",
       "      <th>SibSp</th>\n",
       "      <th>Parch</th>\n",
       "      <th>Ticket</th>\n",
       "      <th>Fare</th>\n",
       "      <th>Cabin</th>\n",
       "      <th>Embarked</th>\n",
       "    </tr>\n",
       "  </thead>\n",
       "  <tbody>\n",
       "    <tr>\n",
       "      <th>27</th>\n",
       "      <td>28</td>\n",
       "      <td>0</td>\n",
       "      <td>1</td>\n",
       "      <td>Fortune, Mr. Charles Alexander</td>\n",
       "      <td>male</td>\n",
       "      <td>19.0</td>\n",
       "      <td>3</td>\n",
       "      <td>2</td>\n",
       "      <td>19950</td>\n",
       "      <td>263.00</td>\n",
       "      <td>C23 C25 C27</td>\n",
       "      <td>S</td>\n",
       "    </tr>\n",
       "    <tr>\n",
       "      <th>88</th>\n",
       "      <td>89</td>\n",
       "      <td>1</td>\n",
       "      <td>1</td>\n",
       "      <td>Fortune, Miss. Mabel Helen</td>\n",
       "      <td>female</td>\n",
       "      <td>23.0</td>\n",
       "      <td>3</td>\n",
       "      <td>2</td>\n",
       "      <td>19950</td>\n",
       "      <td>263.00</td>\n",
       "      <td>C23 C25 C27</td>\n",
       "      <td>S</td>\n",
       "    </tr>\n",
       "    <tr>\n",
       "      <th>159</th>\n",
       "      <td>160</td>\n",
       "      <td>0</td>\n",
       "      <td>3</td>\n",
       "      <td>Sage, Master. Thomas Henry</td>\n",
       "      <td>male</td>\n",
       "      <td>NaN</td>\n",
       "      <td>8</td>\n",
       "      <td>2</td>\n",
       "      <td>CA. 2343</td>\n",
       "      <td>69.55</td>\n",
       "      <td>NaN</td>\n",
       "      <td>S</td>\n",
       "    </tr>\n",
       "    <tr>\n",
       "      <th>180</th>\n",
       "      <td>181</td>\n",
       "      <td>0</td>\n",
       "      <td>3</td>\n",
       "      <td>Sage, Miss. Constance Gladys</td>\n",
       "      <td>female</td>\n",
       "      <td>NaN</td>\n",
       "      <td>8</td>\n",
       "      <td>2</td>\n",
       "      <td>CA. 2343</td>\n",
       "      <td>69.55</td>\n",
       "      <td>NaN</td>\n",
       "      <td>S</td>\n",
       "    </tr>\n",
       "    <tr>\n",
       "      <th>201</th>\n",
       "      <td>202</td>\n",
       "      <td>0</td>\n",
       "      <td>3</td>\n",
       "      <td>Sage, Mr. Frederick</td>\n",
       "      <td>male</td>\n",
       "      <td>NaN</td>\n",
       "      <td>8</td>\n",
       "      <td>2</td>\n",
       "      <td>CA. 2343</td>\n",
       "      <td>69.55</td>\n",
       "      <td>NaN</td>\n",
       "      <td>S</td>\n",
       "    </tr>\n",
       "    <tr>\n",
       "      <th>324</th>\n",
       "      <td>325</td>\n",
       "      <td>0</td>\n",
       "      <td>3</td>\n",
       "      <td>Sage, Mr. George John Jr</td>\n",
       "      <td>male</td>\n",
       "      <td>NaN</td>\n",
       "      <td>8</td>\n",
       "      <td>2</td>\n",
       "      <td>CA. 2343</td>\n",
       "      <td>69.55</td>\n",
       "      <td>NaN</td>\n",
       "      <td>S</td>\n",
       "    </tr>\n",
       "    <tr>\n",
       "      <th>341</th>\n",
       "      <td>342</td>\n",
       "      <td>1</td>\n",
       "      <td>1</td>\n",
       "      <td>Fortune, Miss. Alice Elizabeth</td>\n",
       "      <td>female</td>\n",
       "      <td>24.0</td>\n",
       "      <td>3</td>\n",
       "      <td>2</td>\n",
       "      <td>19950</td>\n",
       "      <td>263.00</td>\n",
       "      <td>C23 C25 C27</td>\n",
       "      <td>S</td>\n",
       "    </tr>\n",
       "    <tr>\n",
       "      <th>792</th>\n",
       "      <td>793</td>\n",
       "      <td>0</td>\n",
       "      <td>3</td>\n",
       "      <td>Sage, Miss. Stella Anna</td>\n",
       "      <td>female</td>\n",
       "      <td>NaN</td>\n",
       "      <td>8</td>\n",
       "      <td>2</td>\n",
       "      <td>CA. 2343</td>\n",
       "      <td>69.55</td>\n",
       "      <td>NaN</td>\n",
       "      <td>S</td>\n",
       "    </tr>\n",
       "    <tr>\n",
       "      <th>846</th>\n",
       "      <td>847</td>\n",
       "      <td>0</td>\n",
       "      <td>3</td>\n",
       "      <td>Sage, Mr. Douglas Bullen</td>\n",
       "      <td>male</td>\n",
       "      <td>NaN</td>\n",
       "      <td>8</td>\n",
       "      <td>2</td>\n",
       "      <td>CA. 2343</td>\n",
       "      <td>69.55</td>\n",
       "      <td>NaN</td>\n",
       "      <td>S</td>\n",
       "    </tr>\n",
       "    <tr>\n",
       "      <th>863</th>\n",
       "      <td>864</td>\n",
       "      <td>0</td>\n",
       "      <td>3</td>\n",
       "      <td>Sage, Miss. Dorothy Edith \"Dolly\"</td>\n",
       "      <td>female</td>\n",
       "      <td>NaN</td>\n",
       "      <td>8</td>\n",
       "      <td>2</td>\n",
       "      <td>CA. 2343</td>\n",
       "      <td>69.55</td>\n",
       "      <td>NaN</td>\n",
       "      <td>S</td>\n",
       "    </tr>\n",
       "  </tbody>\n",
       "</table>\n",
       "</div>"
      ],
      "text/plain": [
       "     PassengerId  Survived  Pclass                               Name     Sex  \\\n",
       "27            28         0       1     Fortune, Mr. Charles Alexander    male   \n",
       "88            89         1       1         Fortune, Miss. Mabel Helen  female   \n",
       "159          160         0       3         Sage, Master. Thomas Henry    male   \n",
       "180          181         0       3       Sage, Miss. Constance Gladys  female   \n",
       "201          202         0       3                Sage, Mr. Frederick    male   \n",
       "324          325         0       3           Sage, Mr. George John Jr    male   \n",
       "341          342         1       1     Fortune, Miss. Alice Elizabeth  female   \n",
       "792          793         0       3            Sage, Miss. Stella Anna  female   \n",
       "846          847         0       3           Sage, Mr. Douglas Bullen    male   \n",
       "863          864         0       3  Sage, Miss. Dorothy Edith \"Dolly\"  female   \n",
       "\n",
       "      Age  SibSp  Parch    Ticket    Fare        Cabin Embarked  \n",
       "27   19.0      3      2     19950  263.00  C23 C25 C27        S  \n",
       "88   23.0      3      2     19950  263.00  C23 C25 C27        S  \n",
       "159   NaN      8      2  CA. 2343   69.55          NaN        S  \n",
       "180   NaN      8      2  CA. 2343   69.55          NaN        S  \n",
       "201   NaN      8      2  CA. 2343   69.55          NaN        S  \n",
       "324   NaN      8      2  CA. 2343   69.55          NaN        S  \n",
       "341  24.0      3      2     19950  263.00  C23 C25 C27        S  \n",
       "792   NaN      8      2  CA. 2343   69.55          NaN        S  \n",
       "846   NaN      8      2  CA. 2343   69.55          NaN        S  \n",
       "863   NaN      8      2  CA. 2343   69.55          NaN        S  "
      ]
     },
     "execution_count": 4,
     "metadata": {},
     "output_type": "execute_result"
    }
   ],
   "source": [
    "train.loc[Outliers_to_drop] # 이상치 row 표출"
   ]
  },
  {
   "cell_type": "code",
   "execution_count": 5,
   "id": "e1470c01",
   "metadata": {},
   "outputs": [],
   "source": [
    "# Drop outliers\n",
    "train = train.drop(Outliers_to_drop, axis = 0).reset_index(drop=True)"
   ]
  },
  {
   "cell_type": "markdown",
   "id": "39927361",
   "metadata": {},
   "source": [
    "### 2.3 joining train and test set // train test 세트 결합"
   ]
  },
  {
   "cell_type": "code",
   "execution_count": 6,
   "id": "5a68fcf6",
   "metadata": {},
   "outputs": [],
   "source": [
    "## Join train and test datasets in order to obtain the same number of features during categorical conversion\n",
    "## 범주형 변환 중에 동일한 수의 feature를 얻기 위해 train 및 test dataset 결합\n",
    "train_len = len(train)\n",
    "dataset =  pd.concat(objs=[train, test], axis=0).reset_index(drop=True)"
   ]
  },
  {
   "cell_type": "markdown",
   "id": "3566c78f",
   "metadata": {},
   "source": [
    "### 2.4 check for null and missing values // null값과 결측치 검증"
   ]
  },
  {
   "cell_type": "code",
   "execution_count": 7,
   "id": "67aa80fd",
   "metadata": {},
   "outputs": [
    {
     "name": "stdout",
     "output_type": "stream",
     "text": [
      "PassengerId       0\n",
      "Survived        418\n",
      "Pclass            0\n",
      "Name              0\n",
      "Sex               0\n",
      "Age             256\n",
      "SibSp             0\n",
      "Parch             0\n",
      "Ticket            0\n",
      "Fare              1\n",
      "Cabin          1007\n",
      "Embarked          2\n",
      "dtype: int64\n"
     ]
    }
   ],
   "source": [
    "# Fill empty and NaNs values with NaN\n",
    "dataset = dataset.fillna(np.nan) ## dataset = train, test에서 결측지\n",
    "\n",
    "# Check for Null values\n",
    "print(dataset.isnull().sum()) ## dataset에서 null값"
   ]
  },
  {
   "cell_type": "code",
   "execution_count": 8,
   "id": "e8ed99c4",
   "metadata": {},
   "outputs": [
    {
     "name": "stdout",
     "output_type": "stream",
     "text": [
      "<class 'pandas.core.frame.DataFrame'>\n",
      "RangeIndex: 881 entries, 0 to 880\n",
      "Data columns (total 12 columns):\n",
      " #   Column       Non-Null Count  Dtype  \n",
      "---  ------       --------------  -----  \n",
      " 0   PassengerId  881 non-null    int64  \n",
      " 1   Survived     881 non-null    int64  \n",
      " 2   Pclass       881 non-null    int64  \n",
      " 3   Name         881 non-null    object \n",
      " 4   Sex          881 non-null    object \n",
      " 5   Age          711 non-null    float64\n",
      " 6   SibSp        881 non-null    int64  \n",
      " 7   Parch        881 non-null    int64  \n",
      " 8   Ticket       881 non-null    object \n",
      " 9   Fare         881 non-null    float64\n",
      " 10  Cabin        201 non-null    object \n",
      " 11  Embarked     879 non-null    object \n",
      "dtypes: float64(2), int64(5), object(5)\n",
      "memory usage: 82.7+ KB\n"
     ]
    },
    {
     "data": {
      "text/plain": [
       "PassengerId      0\n",
       "Survived         0\n",
       "Pclass           0\n",
       "Name             0\n",
       "Sex              0\n",
       "Age            170\n",
       "SibSp            0\n",
       "Parch            0\n",
       "Ticket           0\n",
       "Fare             0\n",
       "Cabin          680\n",
       "Embarked         2\n",
       "dtype: int64"
      ]
     },
     "execution_count": 8,
     "metadata": {},
     "output_type": "execute_result"
    }
   ],
   "source": [
    "# Infos\n",
    "train.info()\n",
    "train.isnull().sum()"
   ]
  },
  {
   "cell_type": "code",
   "execution_count": 9,
   "id": "966b4fa3",
   "metadata": {},
   "outputs": [
    {
     "data": {
      "text/html": [
       "<div>\n",
       "<style scoped>\n",
       "    .dataframe tbody tr th:only-of-type {\n",
       "        vertical-align: middle;\n",
       "    }\n",
       "\n",
       "    .dataframe tbody tr th {\n",
       "        vertical-align: top;\n",
       "    }\n",
       "\n",
       "    .dataframe thead th {\n",
       "        text-align: right;\n",
       "    }\n",
       "</style>\n",
       "<table border=\"1\" class=\"dataframe\">\n",
       "  <thead>\n",
       "    <tr style=\"text-align: right;\">\n",
       "      <th></th>\n",
       "      <th>PassengerId</th>\n",
       "      <th>Survived</th>\n",
       "      <th>Pclass</th>\n",
       "      <th>Name</th>\n",
       "      <th>Sex</th>\n",
       "      <th>Age</th>\n",
       "      <th>SibSp</th>\n",
       "      <th>Parch</th>\n",
       "      <th>Ticket</th>\n",
       "      <th>Fare</th>\n",
       "      <th>Cabin</th>\n",
       "      <th>Embarked</th>\n",
       "    </tr>\n",
       "  </thead>\n",
       "  <tbody>\n",
       "    <tr>\n",
       "      <th>0</th>\n",
       "      <td>1</td>\n",
       "      <td>0</td>\n",
       "      <td>3</td>\n",
       "      <td>Braund, Mr. Owen Harris</td>\n",
       "      <td>male</td>\n",
       "      <td>22.0</td>\n",
       "      <td>1</td>\n",
       "      <td>0</td>\n",
       "      <td>A/5 21171</td>\n",
       "      <td>7.2500</td>\n",
       "      <td>NaN</td>\n",
       "      <td>S</td>\n",
       "    </tr>\n",
       "    <tr>\n",
       "      <th>1</th>\n",
       "      <td>2</td>\n",
       "      <td>1</td>\n",
       "      <td>1</td>\n",
       "      <td>Cumings, Mrs. John Bradley (Florence Briggs Th...</td>\n",
       "      <td>female</td>\n",
       "      <td>38.0</td>\n",
       "      <td>1</td>\n",
       "      <td>0</td>\n",
       "      <td>PC 17599</td>\n",
       "      <td>71.2833</td>\n",
       "      <td>C85</td>\n",
       "      <td>C</td>\n",
       "    </tr>\n",
       "    <tr>\n",
       "      <th>2</th>\n",
       "      <td>3</td>\n",
       "      <td>1</td>\n",
       "      <td>3</td>\n",
       "      <td>Heikkinen, Miss. Laina</td>\n",
       "      <td>female</td>\n",
       "      <td>26.0</td>\n",
       "      <td>0</td>\n",
       "      <td>0</td>\n",
       "      <td>STON/O2. 3101282</td>\n",
       "      <td>7.9250</td>\n",
       "      <td>NaN</td>\n",
       "      <td>S</td>\n",
       "    </tr>\n",
       "    <tr>\n",
       "      <th>3</th>\n",
       "      <td>4</td>\n",
       "      <td>1</td>\n",
       "      <td>1</td>\n",
       "      <td>Futrelle, Mrs. Jacques Heath (Lily May Peel)</td>\n",
       "      <td>female</td>\n",
       "      <td>35.0</td>\n",
       "      <td>1</td>\n",
       "      <td>0</td>\n",
       "      <td>113803</td>\n",
       "      <td>53.1000</td>\n",
       "      <td>C123</td>\n",
       "      <td>S</td>\n",
       "    </tr>\n",
       "    <tr>\n",
       "      <th>4</th>\n",
       "      <td>5</td>\n",
       "      <td>0</td>\n",
       "      <td>3</td>\n",
       "      <td>Allen, Mr. William Henry</td>\n",
       "      <td>male</td>\n",
       "      <td>35.0</td>\n",
       "      <td>0</td>\n",
       "      <td>0</td>\n",
       "      <td>373450</td>\n",
       "      <td>8.0500</td>\n",
       "      <td>NaN</td>\n",
       "      <td>S</td>\n",
       "    </tr>\n",
       "  </tbody>\n",
       "</table>\n",
       "</div>"
      ],
      "text/plain": [
       "   PassengerId  Survived  Pclass  \\\n",
       "0            1         0       3   \n",
       "1            2         1       1   \n",
       "2            3         1       3   \n",
       "3            4         1       1   \n",
       "4            5         0       3   \n",
       "\n",
       "                                                Name     Sex   Age  SibSp  \\\n",
       "0                            Braund, Mr. Owen Harris    male  22.0      1   \n",
       "1  Cumings, Mrs. John Bradley (Florence Briggs Th...  female  38.0      1   \n",
       "2                             Heikkinen, Miss. Laina  female  26.0      0   \n",
       "3       Futrelle, Mrs. Jacques Heath (Lily May Peel)  female  35.0      1   \n",
       "4                           Allen, Mr. William Henry    male  35.0      0   \n",
       "\n",
       "   Parch            Ticket     Fare Cabin Embarked  \n",
       "0      0         A/5 21171   7.2500   NaN        S  \n",
       "1      0          PC 17599  71.2833   C85        C  \n",
       "2      0  STON/O2. 3101282   7.9250   NaN        S  \n",
       "3      0            113803  53.1000  C123        S  \n",
       "4      0            373450   8.0500   NaN        S  "
      ]
     },
     "execution_count": 9,
     "metadata": {},
     "output_type": "execute_result"
    }
   ],
   "source": [
    "train.head()"
   ]
  },
  {
   "cell_type": "code",
   "execution_count": 10,
   "id": "23e82944",
   "metadata": {},
   "outputs": [
    {
     "data": {
      "text/plain": [
       "PassengerId      int64\n",
       "Survived         int64\n",
       "Pclass           int64\n",
       "Name            object\n",
       "Sex             object\n",
       "Age            float64\n",
       "SibSp            int64\n",
       "Parch            int64\n",
       "Ticket          object\n",
       "Fare           float64\n",
       "Cabin           object\n",
       "Embarked        object\n",
       "dtype: object"
      ]
     },
     "execution_count": 10,
     "metadata": {},
     "output_type": "execute_result"
    }
   ],
   "source": [
    "train.dtypes"
   ]
  },
  {
   "cell_type": "code",
   "execution_count": 11,
   "id": "389b1412",
   "metadata": {},
   "outputs": [
    {
     "data": {
      "text/html": [
       "<div>\n",
       "<style scoped>\n",
       "    .dataframe tbody tr th:only-of-type {\n",
       "        vertical-align: middle;\n",
       "    }\n",
       "\n",
       "    .dataframe tbody tr th {\n",
       "        vertical-align: top;\n",
       "    }\n",
       "\n",
       "    .dataframe thead th {\n",
       "        text-align: right;\n",
       "    }\n",
       "</style>\n",
       "<table border=\"1\" class=\"dataframe\">\n",
       "  <thead>\n",
       "    <tr style=\"text-align: right;\">\n",
       "      <th></th>\n",
       "      <th>PassengerId</th>\n",
       "      <th>Survived</th>\n",
       "      <th>Pclass</th>\n",
       "      <th>Age</th>\n",
       "      <th>SibSp</th>\n",
       "      <th>Parch</th>\n",
       "      <th>Fare</th>\n",
       "    </tr>\n",
       "  </thead>\n",
       "  <tbody>\n",
       "    <tr>\n",
       "      <th>count</th>\n",
       "      <td>881.000000</td>\n",
       "      <td>881.000000</td>\n",
       "      <td>881.000000</td>\n",
       "      <td>711.000000</td>\n",
       "      <td>881.000000</td>\n",
       "      <td>881.000000</td>\n",
       "      <td>881.000000</td>\n",
       "    </tr>\n",
       "    <tr>\n",
       "      <th>mean</th>\n",
       "      <td>446.713961</td>\n",
       "      <td>0.385925</td>\n",
       "      <td>2.307605</td>\n",
       "      <td>29.731603</td>\n",
       "      <td>0.455165</td>\n",
       "      <td>0.363224</td>\n",
       "      <td>31.121566</td>\n",
       "    </tr>\n",
       "    <tr>\n",
       "      <th>std</th>\n",
       "      <td>256.617021</td>\n",
       "      <td>0.487090</td>\n",
       "      <td>0.835055</td>\n",
       "      <td>14.547835</td>\n",
       "      <td>0.871571</td>\n",
       "      <td>0.791839</td>\n",
       "      <td>47.996249</td>\n",
       "    </tr>\n",
       "    <tr>\n",
       "      <th>min</th>\n",
       "      <td>1.000000</td>\n",
       "      <td>0.000000</td>\n",
       "      <td>1.000000</td>\n",
       "      <td>0.420000</td>\n",
       "      <td>0.000000</td>\n",
       "      <td>0.000000</td>\n",
       "      <td>0.000000</td>\n",
       "    </tr>\n",
       "    <tr>\n",
       "      <th>25%</th>\n",
       "      <td>226.000000</td>\n",
       "      <td>0.000000</td>\n",
       "      <td>2.000000</td>\n",
       "      <td>20.250000</td>\n",
       "      <td>0.000000</td>\n",
       "      <td>0.000000</td>\n",
       "      <td>7.895800</td>\n",
       "    </tr>\n",
       "    <tr>\n",
       "      <th>50%</th>\n",
       "      <td>448.000000</td>\n",
       "      <td>0.000000</td>\n",
       "      <td>3.000000</td>\n",
       "      <td>28.000000</td>\n",
       "      <td>0.000000</td>\n",
       "      <td>0.000000</td>\n",
       "      <td>14.454200</td>\n",
       "    </tr>\n",
       "    <tr>\n",
       "      <th>75%</th>\n",
       "      <td>668.000000</td>\n",
       "      <td>1.000000</td>\n",
       "      <td>3.000000</td>\n",
       "      <td>38.000000</td>\n",
       "      <td>1.000000</td>\n",
       "      <td>0.000000</td>\n",
       "      <td>30.500000</td>\n",
       "    </tr>\n",
       "    <tr>\n",
       "      <th>max</th>\n",
       "      <td>891.000000</td>\n",
       "      <td>1.000000</td>\n",
       "      <td>3.000000</td>\n",
       "      <td>80.000000</td>\n",
       "      <td>5.000000</td>\n",
       "      <td>6.000000</td>\n",
       "      <td>512.329200</td>\n",
       "    </tr>\n",
       "  </tbody>\n",
       "</table>\n",
       "</div>"
      ],
      "text/plain": [
       "       PassengerId    Survived      Pclass         Age       SibSp  \\\n",
       "count   881.000000  881.000000  881.000000  711.000000  881.000000   \n",
       "mean    446.713961    0.385925    2.307605   29.731603    0.455165   \n",
       "std     256.617021    0.487090    0.835055   14.547835    0.871571   \n",
       "min       1.000000    0.000000    1.000000    0.420000    0.000000   \n",
       "25%     226.000000    0.000000    2.000000   20.250000    0.000000   \n",
       "50%     448.000000    0.000000    3.000000   28.000000    0.000000   \n",
       "75%     668.000000    1.000000    3.000000   38.000000    1.000000   \n",
       "max     891.000000    1.000000    3.000000   80.000000    5.000000   \n",
       "\n",
       "            Parch        Fare  \n",
       "count  881.000000  881.000000  \n",
       "mean     0.363224   31.121566  \n",
       "std      0.791839   47.996249  \n",
       "min      0.000000    0.000000  \n",
       "25%      0.000000    7.895800  \n",
       "50%      0.000000   14.454200  \n",
       "75%      0.000000   30.500000  \n",
       "max      6.000000  512.329200  "
      ]
     },
     "execution_count": 11,
     "metadata": {},
     "output_type": "execute_result"
    }
   ],
   "source": [
    "### Summarize data\n",
    "# Summarie and statistics\n",
    "train.describe()"
   ]
  },
  {
   "cell_type": "markdown",
   "id": "ffefa84e",
   "metadata": {},
   "source": [
    "## 3. Feature analysis"
   ]
  },
  {
   "cell_type": "markdown",
   "id": "84abff67",
   "metadata": {},
   "source": [
    "### 3.1 Numerical values"
   ]
  },
  {
   "cell_type": "code",
   "execution_count": 12,
   "id": "3cdd0dd9",
   "metadata": {},
   "outputs": [
    {
     "data": {
      "image/png": "[encoded data removed]",
      "text/plain": [
       "<Figure size 432x288 with 2 Axes>"
      ]
     },
     "metadata": {},
     "output_type": "display_data"
    }
   ],
   "source": [
    "# Correlation matrix between numerical values (SibSp Parch Age and Fare values) and Survived \n",
    "g = sns.heatmap(train[[\"Survived\",\"SibSp\",\"Parch\",\"Age\",\"Fare\"]].corr(),annot=True, fmt = \".2f\", cmap = \"coolwarm\")\n",
    "#annot = true 셀에 값 표시, fmt = '.2f' 소수2번째 자리까지"
   ]
  },
  {
   "cell_type": "markdown",
   "id": "40803bbd",
   "metadata": {},
   "source": [
    "##### SibSP 함께 탑승한 형제 또는 배우자수"
   ]
  },
  {
   "cell_type": "code",
   "execution_count": 13,
   "id": "1defbed6",
   "metadata": {},
   "outputs": [
    {
     "data": {
      "image/png": "[encoded data removed]",
      "text/plain": [
       "<Figure size 432x432 with 1 Axes>"
      ]
     },
     "metadata": {},
     "output_type": "display_data"
    }
   ],
   "source": [
    "# Explore SibSp feature vs Survived\n",
    "g = sns.factorplot(x=\"SibSp\",y=\"Survived\",data=train,kind=\"bar\", size = 6 , \n",
    "palette = \"muted\")\n",
    "g.despine(left=True)\n",
    "g = g.set_ylabels(\"survival probability\")"
   ]
  },
  {
   "cell_type": "markdown",
   "id": "db20effb",
   "metadata": {},
   "source": [
    "형제/배우자(sibling/spouses)가 많은 승객들이 생존확률이 낮은것 같다.  \n",
    "1인(0 SibSP), 2인(1, 2 SibSP)가 생존확률 높은것 같다."
   ]
  },
  {
   "cell_type": "markdown",
   "id": "2e01f17f",
   "metadata": {},
   "source": [
    "##### Parch 가족 수"
   ]
  },
  {
   "cell_type": "code",
   "execution_count": 14,
   "id": "199bdd8c",
   "metadata": {},
   "outputs": [
    {
     "data": {
      "image/png": "[encoded data removed]",
      "text/plain": [
       "<Figure size 432x432 with 1 Axes>"
      ]
     },
     "metadata": {},
     "output_type": "display_data"
    }
   ],
   "source": [
    "# Explore Parch feature vs Survived\n",
    "g  = sns.factorplot(x=\"Parch\",y=\"Survived\",data=train,kind=\"bar\", size = 6 , \n",
    "palette = \"muted\")\n",
    "g.despine(left=True)\n",
    "g = g.set_ylabels(\"survival probability\")"
   ]
  },
  {
   "cell_type": "markdown",
   "id": "c0e1ddfb",
   "metadata": {},
   "source": [
    "Small families have more chance to survive, more than single (Parch 0), medium (Parch 3,4) and large families (Parch 5,6 ).\n",
    "\n",
    "Be carefull there is an important standard deviation in the survival of passengers with 3 parents/children"
   ]
  },
  {
   "cell_type": "markdown",
   "id": "b6e6a08e",
   "metadata": {},
   "source": [
    "##### Age 나이"
   ]
  },
  {
   "cell_type": "code",
   "execution_count": 15,
   "id": "1bb25a91",
   "metadata": {},
   "outputs": [
    {
     "data": {
      "image/png": "[encoded data removed]",
      "text/plain": [
       "<Figure size 432x216 with 2 Axes>"
      ]
     },
     "metadata": {},
     "output_type": "display_data"
    }
   ],
   "source": [
    "# Explore Age vs Survived\n",
    "g = sns.FacetGrid(train, col='Survived')\n",
    "g = g.map(sns.distplot, \"Age\")"
   ]
  },
  {
   "cell_type": "markdown",
   "id": "56971fbc",
   "metadata": {},
   "source": [
    "Age distribution seems to be a tailed distribution, maybe a gaussian distribution.  \n",
    "연령 분포는 꼬리가 있는 분포인것 같다. 아마도 가우스 분포\n",
    "\n",
    "We notice that age distributions are not the same in the survived and not survived subpopulations. Indeed, there is a peak corresponding to young passengers, that have survived. We also see that passengers between 60-80 have less survived.  \n",
    "우리는 생존한 하위 모집단과 생존하지 않은 하위 모집단에서 연령 분포가 같지 않다는 것을 알아차렸다. 실제로 살아남은 젊은 승객에 상응하는 정점이 있다. 우리는 또한 60-80 사이의 승객들이 덜 살아남았다는 것을 볼 수 있다.\n",
    "\n",
    "So, even if \"Age\" is not correlated with \"Survived\", we can see that there is age categories of passengers that of have more or less chance to survive.  \n",
    "따라서, \"살아남은 나이\"와 상관관계가 없다고 하더라도, 우리는 생존할 가능성이 다소 있는 승객들의 연령 범주가 있다는 것을 알 수 있다.\n",
    "\n",
    "It seems that very young passengers have more chance to survive.  \n",
    "아주 어린 승객들이 살아남을 기회가 더 많은 것 같다."
   ]
  },
  {
   "cell_type": "code",
   "execution_count": 16,
   "id": "b63a351f",
   "metadata": {},
   "outputs": [
    {
     "data": {
      "image/png": "[encoded data removed]",
      "text/plain": [
       "<Figure size 432x288 with 1 Axes>"
      ]
     },
     "metadata": {},
     "output_type": "display_data"
    }
   ],
   "source": [
    "# Explore Age distibution \n",
    "g = sns.kdeplot(train[\"Age\"][(train[\"Survived\"] == 0) & (train[\"Age\"].notnull())], color=\"Red\", shade = True)\n",
    "g = sns.kdeplot(train[\"Age\"][(train[\"Survived\"] == 1) & (train[\"Age\"].notnull())], ax =g, color=\"Blue\", shade= True)\n",
    "g.set_xlabel(\"Age\")\n",
    "g.set_ylabel(\"Frequency\")\n",
    "g = g.legend([\"Not Survived\",\"Survived\"])"
   ]
  },
  {
   "cell_type": "markdown",
   "id": "31c02032",
   "metadata": {},
   "source": [
    "When we superimpose the two densities , we cleary see a peak correponsing (between 0 and 5) to babies and very young childrens.  \n",
    "우리가 두 밀도를 중첩할 때, 우리는 분명히 아기와 매우 어린 아이들에게 대응하는 피크(0과 5 사이)를 본다."
   ]
  },
  {
   "cell_type": "markdown",
   "id": "d0159e33",
   "metadata": {},
   "source": [
    "##### Fare 요금"
   ]
  },
  {
   "cell_type": "code",
   "execution_count": 17,
   "id": "bdc12bd5",
   "metadata": {},
   "outputs": [
    {
     "data": {
      "text/plain": [
       "1"
      ]
     },
     "execution_count": 17,
     "metadata": {},
     "output_type": "execute_result"
    }
   ],
   "source": [
    "dataset[\"Fare\"].isnull().sum()"
   ]
  },
  {
   "cell_type": "code",
   "execution_count": 18,
   "id": "51df0bd0",
   "metadata": {},
   "outputs": [],
   "source": [
    "#Fill Fare missing values with the median value\n",
    "##중간값으로 Fare의 결측치를 채운다\n",
    "dataset[\"Fare\"] = dataset[\"Fare\"].fillna(dataset[\"Fare\"].median())"
   ]
  },
  {
   "cell_type": "code",
   "execution_count": 19,
   "id": "406b9456",
   "metadata": {},
   "outputs": [
    {
     "data": {
      "image/png": "[encoded data removed]",
      "text/plain": [
       "<Figure size 432x288 with 1 Axes>"
      ]
     },
     "metadata": {},
     "output_type": "display_data"
    }
   ],
   "source": [
    "# Explore Fare distribution \n",
    "g = sns.distplot(dataset[\"Fare\"], color=\"m\", label=\"Skewness : %.2f\"%(dataset[\"Fare\"].skew()))\n",
    "g = g.legend(loc=\"best\") ##범례 표시"
   ]
  },
  {
   "cell_type": "code",
   "execution_count": 20,
   "id": "f1474544",
   "metadata": {},
   "outputs": [],
   "source": [
    "# Apply log to Fare to reduce skewness distribution\n",
    "## Fare에 로그를 적용한다. 뒤틀림 정도를 줄이기 위해\n",
    "dataset[\"Fare\"] = dataset[\"Fare\"].map(lambda i: np.log(i) if i > 0 else 0)"
   ]
  },
  {
   "cell_type": "code",
   "execution_count": 21,
   "id": "dac2caa9",
   "metadata": {},
   "outputs": [
    {
     "data": {
      "image/png": "[encoded data removed]",
      "text/plain": [
       "<Figure size 432x288 with 1 Axes>"
      ]
     },
     "metadata": {},
     "output_type": "display_data"
    }
   ],
   "source": [
    "g = sns.distplot(dataset[\"Fare\"], color=\"b\", label=\"Skewness : %.2f\"%(dataset[\"Fare\"].skew()))\n",
    "g = g.legend(loc=\"best\")\n",
    "\n",
    "## 로그를 적용한 Fare plot"
   ]
  },
  {
   "cell_type": "markdown",
   "id": "37512afd",
   "metadata": {},
   "source": [
    "Skewness is clearly reduced after the log transformation.  \n",
    "뒤틀림이 명확히 줄었다. 로그변환후에"
   ]
  },
  {
   "cell_type": "markdown",
   "id": "80b8a881",
   "metadata": {},
   "source": [
    "### 3.2 Categorical values"
   ]
  },
  {
   "cell_type": "markdown",
   "id": "7d98eac8",
   "metadata": {},
   "source": [
    "##### sex 성별"
   ]
  },
  {
   "cell_type": "code",
   "execution_count": 22,
   "id": "97924c15",
   "metadata": {},
   "outputs": [
    {
     "data": {
      "image/png": "[encoded data removed]",
      "text/plain": [
       "<Figure size 432x288 with 1 Axes>"
      ]
     },
     "metadata": {},
     "output_type": "display_data"
    }
   ],
   "source": [
    "g = sns.barplot(x=\"Sex\",y=\"Survived\",data=train)\n",
    "g = g.set_ylabel(\"Survival Probability\")"
   ]
  },
  {
   "cell_type": "code",
   "execution_count": 23,
   "id": "f12e14b8",
   "metadata": {},
   "outputs": [
    {
     "data": {
      "text/html": [
       "<div>\n",
       "<style scoped>\n",
       "    .dataframe tbody tr th:only-of-type {\n",
       "        vertical-align: middle;\n",
       "    }\n",
       "\n",
       "    .dataframe tbody tr th {\n",
       "        vertical-align: top;\n",
       "    }\n",
       "\n",
       "    .dataframe thead th {\n",
       "        text-align: right;\n",
       "    }\n",
       "</style>\n",
       "<table border=\"1\" class=\"dataframe\">\n",
       "  <thead>\n",
       "    <tr style=\"text-align: right;\">\n",
       "      <th></th>\n",
       "      <th>Survived</th>\n",
       "    </tr>\n",
       "    <tr>\n",
       "      <th>Sex</th>\n",
       "      <th></th>\n",
       "    </tr>\n",
       "  </thead>\n",
       "  <tbody>\n",
       "    <tr>\n",
       "      <th>female</th>\n",
       "      <td>0.747573</td>\n",
       "    </tr>\n",
       "    <tr>\n",
       "      <th>male</th>\n",
       "      <td>0.190559</td>\n",
       "    </tr>\n",
       "  </tbody>\n",
       "</table>\n",
       "</div>"
      ],
      "text/plain": [
       "        Survived\n",
       "Sex             \n",
       "female  0.747573\n",
       "male    0.190559"
      ]
     },
     "execution_count": 23,
     "metadata": {},
     "output_type": "execute_result"
    }
   ],
   "source": [
    "train[[\"Sex\",\"Survived\"]].groupby('Sex').mean()"
   ]
  },
  {
   "cell_type": "markdown",
   "id": "b26d3f47",
   "metadata": {},
   "source": [
    "It is clearly obvious that Male have less chance to survive than Female.  \n",
    "확실히 남성이 살아남을 확률은 적었다. 여성보다는\n",
    "\n",
    "So Sex, might play an important role in the prediction of the survival.  \n",
    "그래서 성별은 생존확률 예측에 중요한 요소로 작용 할 수 있는것 같다\n",
    "\n",
    "For those who have seen the Titanic movie (1997), I am sure, we all remember this sentence during the evacuation : \"Women and children first\".  \n",
    "타이타닉 영화(1997년)를 본 사람들에게, 나는 우리 모두가 대피하는 동안 이 문장을 기억한다고 확신한다: \"여성과 아이들이 먼저\"."
   ]
  },
  {
   "cell_type": "markdown",
   "id": "648c431d",
   "metadata": {},
   "source": [
    "#### Pclass 객실등급"
   ]
  },
  {
   "cell_type": "code",
   "execution_count": 24,
   "id": "4ffe3e6b",
   "metadata": {},
   "outputs": [
    {
     "data": {
      "image/png": "[encoded data removed]",
      "text/plain": [
       "<Figure size 432x432 with 1 Axes>"
      ]
     },
     "metadata": {},
     "output_type": "display_data"
    }
   ],
   "source": [
    "# Explore Pclass vs Survived\n",
    "g = sns.factorplot(x=\"Pclass\",y=\"Survived\",data=train,kind=\"bar\", size = 6 , \n",
    "palette = \"muted\")\n",
    "g.despine(left=True) ## 좌측 축 테두리 제거\n",
    "g = g.set_ylabels(\"survival probability\")"
   ]
  },
  {
   "cell_type": "code",
   "execution_count": 25,
   "id": "360074c7",
   "metadata": {},
   "outputs": [
    {
     "data": {
      "image/png": "[encoded data removed]",
      "text/plain": [
       "<Figure size 504.85x432 with 1 Axes>"
      ]
     },
     "metadata": {},
     "output_type": "display_data"
    }
   ],
   "source": [
    "# Explore Pclass vs Survived by Sex\n",
    "g = sns.factorplot(x='Pclass', y='Survived', hue = 'Sex', data = train, size=6, kind='bar', palette='muted')\n",
    "g.despine(left = True)\n",
    "g = g.set_ylabels('survival probability')"
   ]
  },
  {
   "cell_type": "markdown",
   "id": "d591a4c2",
   "metadata": {},
   "source": [
    "The passenger survival is not the same in the 3 classes. First class passengers have more chance to survive than second class and third class passengers.  \n",
    "승객 생존확률은 3개의 클래스가 같지 않다. 1등석 승객은 2등석, 3등석 승객보다 생존할 기회가 많았다.\n",
    "\n",
    "This trend is conserved when we look at both male and female passengers  \n",
    "이 경향은 남성, 여성 둘다 볼때"
   ]
  },
  {
   "cell_type": "markdown",
   "id": "7320dbaf",
   "metadata": {},
   "source": [
    "##### Embarked 탑승구"
   ]
  },
  {
   "cell_type": "code",
   "execution_count": 26,
   "id": "1bf0ff4b",
   "metadata": {},
   "outputs": [
    {
     "data": {
      "text/plain": [
       "2"
      ]
     },
     "execution_count": 26,
     "metadata": {},
     "output_type": "execute_result"
    }
   ],
   "source": [
    "dataset[\"Embarked\"].isnull().sum()"
   ]
  },
  {
   "cell_type": "code",
   "execution_count": 27,
   "id": "f7767df4",
   "metadata": {},
   "outputs": [],
   "source": [
    "#Fill Embarked nan values of dataset set with 'S' most frequent value\n",
    "## Embarked 결측치를 가장 빈도수 높은 'S'로 채운다\n",
    "dataset[\"Embarked\"] = dataset[\"Embarked\"].fillna(\"S\")"
   ]
  },
  {
   "cell_type": "code",
   "execution_count": 28,
   "id": "26df6d32",
   "metadata": {},
   "outputs": [
    {
     "data": {
      "image/png": "[encoded data removed]",
      "text/plain": [
       "<Figure size 432x432 with 1 Axes>"
      ]
     },
     "metadata": {},
     "output_type": "display_data"
    }
   ],
   "source": [
    "# Explore Embarked vs Survived \n",
    "g = sns.factorplot(x=\"Embarked\", y=\"Survived\",  data=train,\n",
    "                   size=6, kind=\"bar\", palette=\"muted\")\n",
    "g.despine(left=True)\n",
    "g = g.set_ylabels(\"survival probability\")"
   ]
  },
  {
   "cell_type": "markdown",
   "id": "37b4603d",
   "metadata": {},
   "source": [
    "It seems that passenger coming from Cherbourg (C) have more chance to survive.  \n",
    "(C) 셰르부르에서 탄 승객들이 살 생존확률이 더 높았다\n",
    "\n",
    "My hypothesis is that the proportion of first class passengers is higher for those who came from Cherbourg than Queenstown (Q), Southampton (S).  \n",
    "내 가설은 퍼스트클래스 승객의 비율이 (Q) 퀸스타운, (S) 사우스햄튼에서 온 승객들 보다 더 높다\n",
    "\n",
    "Let's see the Pclass distribution vs Embarked  \n",
    "Pclass 분포와 탑승구 분포를 보자!"
   ]
  },
  {
   "cell_type": "code",
   "execution_count": 29,
   "id": "eba982fa",
   "metadata": {},
   "outputs": [
    {
     "data": {
      "image/png": "[encoded data removed]",
      "text/plain": [
       "<Figure size 1296x432 with 3 Axes>"
      ]
     },
     "metadata": {},
     "output_type": "display_data"
    }
   ],
   "source": [
    "# Explore Pclass vs Embarked \n",
    "g = sns.factorplot(\"Pclass\", col=\"Embarked\",  data=train,\n",
    "                   size=6, kind=\"count\", palette=\"muted\")\n",
    "g.despine(left=True)\n",
    "g = g.set_ylabels(\"Count\")"
   ]
  },
  {
   "cell_type": "markdown",
   "id": "8f8adea9",
   "metadata": {},
   "source": [
    "Indeed, the third class is the most frequent for passenger coming from Southampton (S) and Queenstown (Q), whereas Cherbourg passengers are mostly in first class which have the highest survival rate.  \n",
    "실제로, 3등석은 (S)사우스햄튼, (Q)퀸즈타운에서온 승객들이 많은 반면, (C)셰르부르에서 온 승객은 1등석이 가장 높은 생존확률을 나타낸다.\n",
    "\n",
    "At this point, i can't explain why first class has an higher survival rate. My hypothesis is that first class passengers were prioritised during the evacuation due to their influence.  \n",
    "여기서 포인트는 나는 왜 1등석이 높은 생존확률을 가지고 있는지 설명할수없다. 나의 가설은 1등석 승객이 그들의 영향성?(권력느낌인것같음) 때문에 대피하는동안 높은 우선순위가 매겨졌다. "
   ]
  },
  {
   "cell_type": "markdown",
   "id": "7be86c7b",
   "metadata": {},
   "source": [
    "## 4. Filling missing Values"
   ]
  },
  {
   "cell_type": "markdown",
   "id": "526c2dc0",
   "metadata": {},
   "source": [
    "### 4.1 Age"
   ]
  },
  {
   "cell_type": "markdown",
   "id": "eb387788",
   "metadata": {},
   "source": [
    "As we see, Age column contains 256 missing values in the whole dataset.  \n",
    "우리가 볼때, Age column은 256개의 결측값을 가지고 있다. 전체 데이터에서\n",
    "\n",
    "Since there is subpopulations that have more chance to survive (children for example), it is preferable to keep the age feature and to impute the missing values.  \n",
    "더 높은 생존확률을 가지는 하위집단이 있기 때문에(예를들어 아이들), 연령 특성을 유지하고, 결측값을 전가하는것이 더 좋을것 같다\n",
    "\n",
    "To adress this problem, i looked at the most correlated features with Age (Sex, Parch , Pclass and SibSP).  \n",
    "이 문제를 해결하기 위해, 나는 나이(성별, 가족수, 탑승구, 일행수)와 가장 상관관계가 있는 특징을 살펴보았다."
   ]
  },
  {
   "cell_type": "code",
   "execution_count": 30,
   "id": "1d81df9b",
   "metadata": {},
   "outputs": [
    {
     "data": {
      "image/png": "[encoded data removed]",
      "text/plain": [
       "<Figure size 360x360 with 1 Axes>"
      ]
     },
     "metadata": {},
     "output_type": "display_data"
    },
    {
     "data": {
      "image/png": "[encoded data removed]",
      "text/plain": [
       "<Figure size 405.725x360 with 1 Axes>"
      ]
     },
     "metadata": {},
     "output_type": "display_data"
    },
    {
     "data": {
      "image/png": "[encoded data removed]",
      "text/plain": [
       "<Figure size 360x360 with 1 Axes>"
      ]
     },
     "metadata": {},
     "output_type": "display_data"
    },
    {
     "data": {
      "image/png": "[encoded data removed]",
      "text/plain": [
       "<Figure size 360x360 with 1 Axes>"
      ]
     },
     "metadata": {},
     "output_type": "display_data"
    }
   ],
   "source": [
    "# Explore Age vs Sex, Parch , Pclass and SibSP\n",
    "g = sns.factorplot(y=\"Age\",x=\"Sex\",data=dataset,kind=\"box\")\n",
    "g = sns.factorplot(y=\"Age\",x=\"Sex\",hue=\"Pclass\", data=dataset,kind=\"box\")\n",
    "g = sns.factorplot(y=\"Age\",x=\"Parch\", data=dataset,kind=\"box\")\n",
    "g = sns.factorplot(y=\"Age\",x=\"SibSp\", data=dataset,kind=\"box\")"
   ]
  },
  {
   "cell_type": "markdown",
   "id": "23733e26",
   "metadata": {},
   "source": [
    "Age distribution seems to be the same in Male and Female subpopulations, so Sex is not informative to predict Age.  \n",
    "나이 분포는 남성과 여성의 하위분포에서 동일한것으로 보여진다. 그래서 성별은 나이를 예측하는데 유용하지 않은것 같다.\n",
    "\n",
    "However, 1st class passengers are older than 2nd class passengers who are also older than 3rd class passengers.  \n",
    "하지만, 1등석 승객은 2등석 3등석 승객보다 더 나이 많다.\n",
    "\n",
    "Moreover, the more a passenger has parents/children the older he is and the more a passenger has siblings/spouses the younger he is.  \n",
    "게다가, 승객들은 부모/아이들(Parch)을 가지고 있을 수록 나이가 많고, 형제/배우자(SibSP)를 가지고 있을수록 젊다"
   ]
  },
  {
   "cell_type": "code",
   "execution_count": 31,
   "id": "e6bf1579",
   "metadata": {},
   "outputs": [],
   "source": [
    "# convert Sex into categorical value 0 for male and 1 for female\n",
    "## 0을 남성, 1을 여성으로 변환\n",
    "dataset[\"Sex\"] = dataset[\"Sex\"].map({\"male\": 0, \"female\":1})"
   ]
  },
  {
   "cell_type": "code",
   "execution_count": 32,
   "id": "bdd4856e",
   "metadata": {},
   "outputs": [
    {
     "data": {
      "image/png": "[encoded data removed]",
      "text/plain": [
       "<Figure size 432x288 with 2 Axes>"
      ]
     },
     "metadata": {},
     "output_type": "display_data"
    }
   ],
   "source": [
    "g = sns.heatmap(dataset[[\"Age\",\"Sex\",\"SibSp\",\"Parch\",\"Pclass\"]].corr(),cmap=\"BrBG\",annot=True)"
   ]
  },
  {
   "cell_type": "markdown",
   "id": "b4825f03",
   "metadata": {},
   "source": [
    "The correlation map confirms the factorplots observations except for Parch. Age is not correlated with Sex, but is negatively correlated with Pclass, Parch and SibSp.  \n",
    "- 이 상관관계 맵은 factorplot 관측치를 부모/아이들(Parch) 제외하고 확인한다. 나이는 상관관계가 없다, 그러나 객실등급(Pclass), 부모/아이들(Parch), 형제/배우자(SibSp)와는 음의 상관관계를 가진다\n",
    "\n",
    "In the plot of Age in function of Parch, Age is growing with the number of parents / children. But the general correlation is negative.  \n",
    "- 의역) Age와 Parch는 거의 비례를 나타낸다. 하지만 일반적인 상관관계는 음의 상관관계이다\n",
    "\n",
    "So, i decided to use SibSP, Parch and Pclass in order to impute the missing ages.  \n",
    "- 그래서 나는 형제/배우자(SibSp), 부모/아이들(Parch), 객실등급(Pclass) 사용을 결심했다. 결측치를 대체하기 위해\n",
    "\n",
    "The strategy is to fill Age with the median age of similar rows according to Pclass, Parch and SibSp.  \n",
    "- 이 전략은 객실등급(Pclass), 부모/아이들(Parch), 형제/배우자(SibSp)에 따른 유사한 행의 중위수 나이로 Age를 채우는 것입니다."
   ]
  },
  {
   "cell_type": "code",
   "execution_count": 33,
   "id": "55510cd0",
   "metadata": {},
   "outputs": [],
   "source": [
    "# Filling missing value of Age \n",
    "## 나이 결측치 채우기\n",
    "\n",
    "## Fill Age with the median age of similar rows according to Pclass, Parch and SibSp\n",
    "## Pclass, Parch, SibSP에 따라 유사한 행의 중위수 나이로 채우기\n",
    "# Index of NaN age rows\n",
    "index_NaN_age = list(dataset[\"Age\"][dataset[\"Age\"].isnull()].index)\n",
    "\n",
    "for i in index_NaN_age :\n",
    "    age_med = dataset[\"Age\"].median()\n",
    "    age_pred = dataset[\"Age\"][((dataset['SibSp'] == dataset.iloc[i][\"SibSp\"]) & \n",
    "                               (dataset['Parch'] == dataset.iloc[i][\"Parch\"]) & \n",
    "                               (dataset['Pclass'] == dataset.iloc[i][\"Pclass\"]))].median()\n",
    "    if not np.isnan(age_pred) :\n",
    "        dataset['Age'].iloc[i] = age_pred\n",
    "    else :\n",
    "        dataset['Age'].iloc[i] = age_med"
   ]
  },
  {
   "cell_type": "code",
   "execution_count": 34,
   "id": "0559d91f",
   "metadata": {},
   "outputs": [
    {
     "data": {
      "image/png": "[encoded data removed]",
      "text/plain": [
       "<Figure size 360x360 with 1 Axes>"
      ]
     },
     "metadata": {},
     "output_type": "display_data"
    },
    {
     "data": {
      "image/png": "[encoded data removed]",
      "text/plain": [
       "<Figure size 360x360 with 1 Axes>"
      ]
     },
     "metadata": {},
     "output_type": "display_data"
    }
   ],
   "source": [
    "g = sns.factorplot(x=\"Survived\", y = \"Age\",data = train, kind=\"box\")\n",
    "g = sns.factorplot(x=\"Survived\", y = \"Age\",data = train, kind=\"violin\")"
   ]
  },
  {
   "cell_type": "markdown",
   "id": "46323935",
   "metadata": {},
   "source": [
    "No difference between median value of age in survived and not survived subpopulation.  \n",
    "- 나이의 중위수의 차이점이 없다 생존했는지와 생존하지못했는지에\n",
    "\n",
    "But in the violin plot of survived passengers, we still notice that very young passengers have higher survival rate.  \n",
    "- 하지만 생존 승객의 violin plot에서는 우리는 매우 어린 승객들이 높은 생존확률을 가지고 있다는걸 알았다"
   ]
  },
  {
   "cell_type": "markdown",
   "id": "05ed0841",
   "metadata": {},
   "source": [
    "## 5. Feature engineering"
   ]
  },
  {
   "cell_type": "markdown",
   "id": "e6e0e74f",
   "metadata": {},
   "source": [
    "### 5.1 Name/Title"
   ]
  },
  {
   "cell_type": "code",
   "execution_count": 35,
   "id": "4ed7fc7c",
   "metadata": {},
   "outputs": [
    {
     "data": {
      "text/plain": [
       "0                              Braund, Mr. Owen Harris\n",
       "1    Cumings, Mrs. John Bradley (Florence Briggs Th...\n",
       "2                               Heikkinen, Miss. Laina\n",
       "3         Futrelle, Mrs. Jacques Heath (Lily May Peel)\n",
       "4                             Allen, Mr. William Henry\n",
       "Name: Name, dtype: object"
      ]
     },
     "execution_count": 35,
     "metadata": {},
     "output_type": "execute_result"
    }
   ],
   "source": [
    "dataset[\"Name\"].head()"
   ]
  },
  {
   "cell_type": "markdown",
   "id": "fb905457",
   "metadata": {},
   "source": [
    "The Name feature contains information on passenger's title.\n",
    "- 이름 피쳐는 승객호칭? 정보를 포함하고있다\n",
    "\n",
    "Since some passenger with distingused title may be preferred during the evacuation, it is interesting to add them to the model.\n",
    "- 대피하는동안 뚜렷한 호칭을 가진 일부 승객이 선호될수 있으므로, 그들을 모델에 추가하는것이 흥미로울것이다"
   ]
  },
  {
   "cell_type": "code",
   "execution_count": 36,
   "id": "62d15696",
   "metadata": {},
   "outputs": [
    {
     "data": {
      "text/plain": [
       "0      Mr\n",
       "1     Mrs\n",
       "2    Miss\n",
       "3     Mrs\n",
       "4      Mr\n",
       "Name: Title, dtype: object"
      ]
     },
     "execution_count": 36,
     "metadata": {},
     "output_type": "execute_result"
    }
   ],
   "source": [
    "# Get Title from Name\n",
    "dataset_title = [i.split(\",\")[1].split(\".\")[0].strip() for i in dataset[\"Name\"]]\n",
    "dataset[\"Title\"] = pd.Series(dataset_title)\n",
    "dataset[\"Title\"].head()"
   ]
  },
  {
   "cell_type": "code",
   "execution_count": 37,
   "id": "d127df74",
   "metadata": {},
   "outputs": [
    {
     "data": {
      "image/png": "[encoded data removed]",
      "text/plain": [
       "<Figure size 432x288 with 1 Axes>"
      ]
     },
     "metadata": {},
     "output_type": "display_data"
    }
   ],
   "source": [
    "g = sns.countplot(x=\"Title\",data=dataset)\n",
    "g = plt.setp(g.get_xticklabels(), rotation=45) "
   ]
  },
  {
   "cell_type": "markdown",
   "id": "16358852",
   "metadata": {},
   "source": [
    "There is 17 titles in the dataset, most of them are very rare and we can group them in 4 categories.\n",
    "- 17가지의 호칭들이 있다. 그들중 대부분은 매우 드물고, 우리는 그들을 4가지의 그룹을 지을수 있다"
   ]
  },
  {
   "cell_type": "code",
   "execution_count": 38,
   "id": "20c03658",
   "metadata": {},
   "outputs": [],
   "source": [
    "# Convert to categorical values Title \n",
    "dataset[\"Title\"] = dataset[\"Title\"].replace(['Lady', 'the Countess','Countess','Capt', 'Col','Don', 'Dr', 'Major', 'Rev', 'Sir', 'Jonkheer', 'Dona'], 'Rare')\n",
    "dataset[\"Title\"] = dataset[\"Title\"].map({\"Master\":0, \"Miss\":1, \"Ms\" : 1 , \"Mme\":1, \"Mlle\":1, \"Mrs\":1, \"Mr\":2, \"Rare\":3})\n",
    "dataset[\"Title\"] = dataset[\"Title\"].astype(int)"
   ]
  },
  {
   "cell_type": "code",
   "execution_count": 39,
   "id": "42722287",
   "metadata": {},
   "outputs": [
    {
     "data": {
      "image/png": "[encoded data removed]",
      "text/plain": [
       "<Figure size 432x288 with 1 Axes>"
      ]
     },
     "metadata": {},
     "output_type": "display_data"
    }
   ],
   "source": [
    "g = sns.countplot(dataset[\"Title\"])\n",
    "g = g.set_xticklabels([\"Master\",\"Miss/Ms/Mme/Mlle/Mrs\",\"Mr\",\"Rare\"])"
   ]
  },
  {
   "cell_type": "code",
   "execution_count": 40,
   "id": "89010433",
   "metadata": {},
   "outputs": [
    {
     "data": {
      "image/png": "[encoded data removed]",
      "text/plain": [
       "<Figure size 360x360 with 1 Axes>"
      ]
     },
     "metadata": {},
     "output_type": "display_data"
    }
   ],
   "source": [
    "g = sns.factorplot(x=\"Title\",y=\"Survived\",data=dataset,kind=\"bar\")\n",
    "g = g.set_xticklabels([\"Master\",\"Miss-Mrs\",\"Mr\",\"Rare\"])\n",
    "g = g.set_ylabels(\"survival probability\")"
   ]
  },
  {
   "cell_type": "markdown",
   "id": "d86c1dcc",
   "metadata": {},
   "source": [
    "\"Women and children first\"\n",
    "- '여성과 아이들 먼저'\n",
    "\n",
    "It is interesting to note that passengers with rare title have more chance to survive.\n",
    "- 희귀 칭호를 가진 승객이 생존할 확률이 더 높다는 점은 흥미롭다."
   ]
  },
  {
   "cell_type": "code",
   "execution_count": 41,
   "id": "7b0b0637",
   "metadata": {},
   "outputs": [],
   "source": [
    "# Drop Name variable\n",
    "dataset.drop(labels = [\"Name\"], axis = 1, inplace = True)\n",
    "## 이름 변수 삭제"
   ]
  },
  {
   "cell_type": "markdown",
   "id": "18f4cb89",
   "metadata": {},
   "source": [
    "### 5.2 Family size"
   ]
  },
  {
   "cell_type": "markdown",
   "id": "4145d33e",
   "metadata": {},
   "source": [
    "We can imagine that large families will have more difficulties to evacuate, looking for theirs sisters/brothers/parents during the evacuation. So, i choosed to create a \"Fize\" (family size) feature which is the sum of SibSp , Parch and 1 (including the passenger).\n",
    "- 우리는 대가족일수록 대피하는동안 그들의 자매/형제/부모를 찾아 더 대피하기 어려울것이라고 상상할수 있습니다. 그래서 나는 'Fize'(Family Size)라는 피처를 만들기로 정했습니다. SibSp, Parch 그리고 1(승객포함)"
   ]
  },
  {
   "cell_type": "code",
   "execution_count": 42,
   "id": "09f0d863",
   "metadata": {},
   "outputs": [],
   "source": [
    "# Create a family size descriptor from SibSp and Parch\n",
    "dataset[\"Fsize\"] = dataset[\"SibSp\"] + dataset[\"Parch\"] + 1"
   ]
  },
  {
   "cell_type": "code",
   "execution_count": 43,
   "id": "639b7a9e",
   "metadata": {},
   "outputs": [
    {
     "data": {
      "image/png": "[encoded data removed]",
      "text/plain": [
       "<Figure size 360x360 with 1 Axes>"
      ]
     },
     "metadata": {},
     "output_type": "display_data"
    }
   ],
   "source": [
    "g = sns.factorplot(x=\"Fsize\",y=\"Survived\",data = dataset)\n",
    "g = g.set_ylabels(\"Survival Probability\")"
   ]
  },
  {
   "cell_type": "markdown",
   "id": "b6007fef",
   "metadata": {},
   "source": [
    "The family size seems to play an important role, survival probability is worst for large families.\n",
    "- 가족 크기는 중요한 역할을 하는것으로 보이며, 생존확률은 대가족일수록 낮다.\n",
    "\n",
    "Additionally, i decided to created 4 categories of family size.\n",
    "- 더해서 나는 가족 크기를 4가지 카테고리로 만들기로 정했다"
   ]
  },
  {
   "cell_type": "code",
   "execution_count": 44,
   "id": "82b7dc61",
   "metadata": {},
   "outputs": [],
   "source": [
    "# Create new feature of family size\n",
    "dataset['Single'] = dataset['Fsize'].map(lambda s: 1 if s == 1 else 0) #Fize = 1이면 Single\n",
    "dataset['SmallF'] = dataset['Fsize'].map(lambda s: 1 if  s == 2  else 0) #Fize = 2이면 SmallF\n",
    "dataset['MedF'] = dataset['Fsize'].map(lambda s: 1 if 3 <= s <= 4 else 0) #Fize = 3~4이면 MedF\n",
    "dataset['LargeF'] = dataset['Fsize'].map(lambda s: 1 if s >= 5 else 0) #Fize => 5이면 LargeF"
   ]
  },
  {
   "cell_type": "code",
   "execution_count": 45,
   "id": "47f3b745",
   "metadata": {},
   "outputs": [
    {
     "data": {
      "image/png": "[encoded data removed]",
      "text/plain": [
       "<Figure size 360x360 with 1 Axes>"
      ]
     },
     "metadata": {},
     "output_type": "display_data"
    },
    {
     "data": {
      "image/png": "[encoded data removed]",
      "text/plain": [
       "<Figure size 360x360 with 1 Axes>"
      ]
     },
     "metadata": {},
     "output_type": "display_data"
    },
    {
     "data": {
      "image/png": "[encoded data removed]",
      "text/plain": [
       "<Figure size 360x360 with 1 Axes>"
      ]
     },
     "metadata": {},
     "output_type": "display_data"
    },
    {
     "data": {
      "image/png": "[encoded data removed]",
      "text/plain": [
       "<Figure size 360x360 with 1 Axes>"
      ]
     },
     "metadata": {},
     "output_type": "display_data"
    }
   ],
   "source": [
    "g = sns.factorplot(x=\"Single\",y=\"Survived\",data=dataset,kind=\"bar\")\n",
    "g = g.set_ylabels(\"Survival Probability\")\n",
    "g = sns.factorplot(x=\"SmallF\",y=\"Survived\",data=dataset,kind=\"bar\")\n",
    "g = g.set_ylabels(\"Survival Probability\")\n",
    "g = sns.factorplot(x=\"MedF\",y=\"Survived\",data=dataset,kind=\"bar\")\n",
    "g = g.set_ylabels(\"Survival Probability\")\n",
    "g = sns.factorplot(x=\"LargeF\",y=\"Survived\",data=dataset,kind=\"bar\")\n",
    "g = g.set_ylabels(\"Survival Probability\")"
   ]
  },
  {
   "cell_type": "markdown",
   "id": "c9f7a620",
   "metadata": {},
   "source": [
    "Factorplots of family size categories show that Small and Medium families have more chance to survive than single passenger and large families.\n",
    "- 가족크기 카테고리의 Factorplots는 중소 가족이 대가족과 1인가족 보다 더 생존확률이 높았다라는걸 보여준다"
   ]
  },
  {
   "cell_type": "code",
   "execution_count": 46,
   "id": "f2d4651a",
   "metadata": {},
   "outputs": [],
   "source": [
    "# convert to indicator values Title and Embarked \n",
    "## One-hot Encoding 사용\n",
    "dataset = pd.get_dummies(dataset, columns = [\"Title\"])\n",
    "dataset = pd.get_dummies(dataset, columns = [\"Embarked\"], prefix=\"Em\")"
   ]
  },
  {
   "cell_type": "code",
   "execution_count": 47,
   "id": "ec0a98dd",
   "metadata": {},
   "outputs": [
    {
     "data": {
      "text/html": [
       "<div>\n",
       "<style scoped>\n",
       "    .dataframe tbody tr th:only-of-type {\n",
       "        vertical-align: middle;\n",
       "    }\n",
       "\n",
       "    .dataframe tbody tr th {\n",
       "        vertical-align: top;\n",
       "    }\n",
       "\n",
       "    .dataframe thead th {\n",
       "        text-align: right;\n",
       "    }\n",
       "</style>\n",
       "<table border=\"1\" class=\"dataframe\">\n",
       "  <thead>\n",
       "    <tr style=\"text-align: right;\">\n",
       "      <th></th>\n",
       "      <th>PassengerId</th>\n",
       "      <th>Survived</th>\n",
       "      <th>Pclass</th>\n",
       "      <th>Sex</th>\n",
       "      <th>Age</th>\n",
       "      <th>SibSp</th>\n",
       "      <th>Parch</th>\n",
       "      <th>Ticket</th>\n",
       "      <th>Fare</th>\n",
       "      <th>Cabin</th>\n",
       "      <th>...</th>\n",
       "      <th>SmallF</th>\n",
       "      <th>MedF</th>\n",
       "      <th>LargeF</th>\n",
       "      <th>Title_0</th>\n",
       "      <th>Title_1</th>\n",
       "      <th>Title_2</th>\n",
       "      <th>Title_3</th>\n",
       "      <th>Em_C</th>\n",
       "      <th>Em_Q</th>\n",
       "      <th>Em_S</th>\n",
       "    </tr>\n",
       "  </thead>\n",
       "  <tbody>\n",
       "    <tr>\n",
       "      <th>0</th>\n",
       "      <td>1</td>\n",
       "      <td>0.0</td>\n",
       "      <td>3</td>\n",
       "      <td>0</td>\n",
       "      <td>22.0</td>\n",
       "      <td>1</td>\n",
       "      <td>0</td>\n",
       "      <td>A/5 21171</td>\n",
       "      <td>1.981001</td>\n",
       "      <td>NaN</td>\n",
       "      <td>...</td>\n",
       "      <td>1</td>\n",
       "      <td>0</td>\n",
       "      <td>0</td>\n",
       "      <td>0</td>\n",
       "      <td>0</td>\n",
       "      <td>1</td>\n",
       "      <td>0</td>\n",
       "      <td>0</td>\n",
       "      <td>0</td>\n",
       "      <td>1</td>\n",
       "    </tr>\n",
       "    <tr>\n",
       "      <th>1</th>\n",
       "      <td>2</td>\n",
       "      <td>1.0</td>\n",
       "      <td>1</td>\n",
       "      <td>1</td>\n",
       "      <td>38.0</td>\n",
       "      <td>1</td>\n",
       "      <td>0</td>\n",
       "      <td>PC 17599</td>\n",
       "      <td>4.266662</td>\n",
       "      <td>C85</td>\n",
       "      <td>...</td>\n",
       "      <td>1</td>\n",
       "      <td>0</td>\n",
       "      <td>0</td>\n",
       "      <td>0</td>\n",
       "      <td>1</td>\n",
       "      <td>0</td>\n",
       "      <td>0</td>\n",
       "      <td>1</td>\n",
       "      <td>0</td>\n",
       "      <td>0</td>\n",
       "    </tr>\n",
       "    <tr>\n",
       "      <th>2</th>\n",
       "      <td>3</td>\n",
       "      <td>1.0</td>\n",
       "      <td>3</td>\n",
       "      <td>1</td>\n",
       "      <td>26.0</td>\n",
       "      <td>0</td>\n",
       "      <td>0</td>\n",
       "      <td>STON/O2. 3101282</td>\n",
       "      <td>2.070022</td>\n",
       "      <td>NaN</td>\n",
       "      <td>...</td>\n",
       "      <td>0</td>\n",
       "      <td>0</td>\n",
       "      <td>0</td>\n",
       "      <td>0</td>\n",
       "      <td>1</td>\n",
       "      <td>0</td>\n",
       "      <td>0</td>\n",
       "      <td>0</td>\n",
       "      <td>0</td>\n",
       "      <td>1</td>\n",
       "    </tr>\n",
       "    <tr>\n",
       "      <th>3</th>\n",
       "      <td>4</td>\n",
       "      <td>1.0</td>\n",
       "      <td>1</td>\n",
       "      <td>1</td>\n",
       "      <td>35.0</td>\n",
       "      <td>1</td>\n",
       "      <td>0</td>\n",
       "      <td>113803</td>\n",
       "      <td>3.972177</td>\n",
       "      <td>C123</td>\n",
       "      <td>...</td>\n",
       "      <td>1</td>\n",
       "      <td>0</td>\n",
       "      <td>0</td>\n",
       "      <td>0</td>\n",
       "      <td>1</td>\n",
       "      <td>0</td>\n",
       "      <td>0</td>\n",
       "      <td>0</td>\n",
       "      <td>0</td>\n",
       "      <td>1</td>\n",
       "    </tr>\n",
       "    <tr>\n",
       "      <th>4</th>\n",
       "      <td>5</td>\n",
       "      <td>0.0</td>\n",
       "      <td>3</td>\n",
       "      <td>0</td>\n",
       "      <td>35.0</td>\n",
       "      <td>0</td>\n",
       "      <td>0</td>\n",
       "      <td>373450</td>\n",
       "      <td>2.085672</td>\n",
       "      <td>NaN</td>\n",
       "      <td>...</td>\n",
       "      <td>0</td>\n",
       "      <td>0</td>\n",
       "      <td>0</td>\n",
       "      <td>0</td>\n",
       "      <td>0</td>\n",
       "      <td>1</td>\n",
       "      <td>0</td>\n",
       "      <td>0</td>\n",
       "      <td>0</td>\n",
       "      <td>1</td>\n",
       "    </tr>\n",
       "  </tbody>\n",
       "</table>\n",
       "<p>5 rows × 22 columns</p>\n",
       "</div>"
      ],
      "text/plain": [
       "   PassengerId  Survived  Pclass  Sex   Age  SibSp  Parch            Ticket  \\\n",
       "0            1       0.0       3    0  22.0      1      0         A/5 21171   \n",
       "1            2       1.0       1    1  38.0      1      0          PC 17599   \n",
       "2            3       1.0       3    1  26.0      0      0  STON/O2. 3101282   \n",
       "3            4       1.0       1    1  35.0      1      0            113803   \n",
       "4            5       0.0       3    0  35.0      0      0            373450   \n",
       "\n",
       "       Fare Cabin  ...  SmallF  MedF  LargeF  Title_0  Title_1  Title_2  \\\n",
       "0  1.981001   NaN  ...       1     0       0        0        0        1   \n",
       "1  4.266662   C85  ...       1     0       0        0        1        0   \n",
       "2  2.070022   NaN  ...       0     0       0        0        1        0   \n",
       "3  3.972177  C123  ...       1     0       0        0        1        0   \n",
       "4  2.085672   NaN  ...       0     0       0        0        0        1   \n",
       "\n",
       "   Title_3  Em_C  Em_Q  Em_S  \n",
       "0        0     0     0     1  \n",
       "1        0     1     0     0  \n",
       "2        0     0     0     1  \n",
       "3        0     0     0     1  \n",
       "4        0     0     0     1  \n",
       "\n",
       "[5 rows x 22 columns]"
      ]
     },
     "execution_count": 47,
     "metadata": {},
     "output_type": "execute_result"
    }
   ],
   "source": [
    "dataset.head()"
   ]
  },
  {
   "cell_type": "markdown",
   "id": "a062fdb8",
   "metadata": {},
   "source": [
    "At this stage, we have 22 features.\n",
    "- 지금 단계에서는 22개의 피처를 가지고 있다"
   ]
  },
  {
   "cell_type": "markdown",
   "id": "07970ca2",
   "metadata": {},
   "source": [
    "### 5.3 Cabin"
   ]
  },
  {
   "cell_type": "code",
   "execution_count": 48,
   "id": "a9978d1e",
   "metadata": {},
   "outputs": [
    {
     "data": {
      "text/plain": [
       "0     NaN\n",
       "1     C85\n",
       "2     NaN\n",
       "3    C123\n",
       "4     NaN\n",
       "Name: Cabin, dtype: object"
      ]
     },
     "execution_count": 48,
     "metadata": {},
     "output_type": "execute_result"
    }
   ],
   "source": [
    "dataset[\"Cabin\"].head()"
   ]
  },
  {
   "cell_type": "code",
   "execution_count": 49,
   "id": "a83dd2f3",
   "metadata": {},
   "outputs": [
    {
     "data": {
      "text/plain": [
       "count     292\n",
       "unique    186\n",
       "top        G6\n",
       "freq        5\n",
       "Name: Cabin, dtype: object"
      ]
     },
     "execution_count": 49,
     "metadata": {},
     "output_type": "execute_result"
    }
   ],
   "source": [
    "dataset[\"Cabin\"].describe()"
   ]
  },
  {
   "cell_type": "code",
   "execution_count": 50,
   "id": "8116d8e4",
   "metadata": {},
   "outputs": [
    {
     "data": {
      "text/plain": [
       "1007"
      ]
     },
     "execution_count": 50,
     "metadata": {},
     "output_type": "execute_result"
    }
   ],
   "source": [
    "dataset[\"Cabin\"].isnull().sum()"
   ]
  },
  {
   "cell_type": "markdown",
   "id": "c7d70d5a",
   "metadata": {},
   "source": [
    "The Cabin feature column contains 292 values and 1007 missing values.\n",
    "- 선실 피처 컬럼은 292개의 값과 1007개의 결측치를 가지고 있다.\n",
    "\n",
    "I supposed that passengers without a cabin have a missing value displayed instead of the cabin number.\n",
    "- 나는 가정햇다 선실이없는 승객들이 선실번호 대신 결측치를 가지고 있다고"
   ]
  },
  {
   "cell_type": "code",
   "execution_count": 51,
   "id": "f5a204a8",
   "metadata": {},
   "outputs": [
    {
     "data": {
      "text/plain": [
       "1      C85\n",
       "3     C123\n",
       "6      E46\n",
       "10      G6\n",
       "11    C103\n",
       "Name: Cabin, dtype: object"
      ]
     },
     "execution_count": 51,
     "metadata": {},
     "output_type": "execute_result"
    }
   ],
   "source": [
    "dataset[\"Cabin\"][dataset[\"Cabin\"].notnull()].head()"
   ]
  },
  {
   "cell_type": "code",
   "execution_count": 52,
   "id": "71d3f2e9",
   "metadata": {},
   "outputs": [],
   "source": [
    "# Replace the Cabin number by the type of cabin 'X' if not\n",
    "dataset[\"Cabin\"] = pd.Series([i[0] if not pd.isnull(i) else 'X' for i in dataset['Cabin'] ])\n",
    "# 선실코드가 없다면 'X'로 선실코드를 대체한다"
   ]
  },
  {
   "cell_type": "markdown",
   "id": "95982e55",
   "metadata": {},
   "source": [
    "The first letter of the cabin indicates the Desk, i choosed to keep this information only, since it indicates the probable location of the passenger in the Titanic.\n",
    "- 선실코드의 첫글자는 데스크를 나타낸다. 승객의 가능한위치를 나타내기 때문에 이 정보만 유지하기로 정했다."
   ]
  },
  {
   "cell_type": "code",
   "execution_count": 53,
   "id": "790ed520",
   "metadata": {},
   "outputs": [
    {
     "data": {
      "image/png": "[encoded data removed]",
      "text/plain": [
       "<Figure size 432x288 with 1 Axes>"
      ]
     },
     "metadata": {},
     "output_type": "display_data"
    }
   ],
   "source": [
    "g = sns.countplot(dataset[\"Cabin\"],order=['A','B','C','D','E','F','G','T','X'])"
   ]
  },
  {
   "cell_type": "code",
   "execution_count": 54,
   "id": "49809c20",
   "metadata": {},
   "outputs": [
    {
     "data": {
      "image/png": "[encoded data removed]",
      "text/plain": [
       "<Figure size 360x360 with 1 Axes>"
      ]
     },
     "metadata": {},
     "output_type": "display_data"
    }
   ],
   "source": [
    "g = sns.factorplot(y=\"Survived\",x=\"Cabin\",data=dataset,kind=\"bar\",order=['A','B','C','D','E','F','G','T','X'])\n",
    "g = g.set_ylabels(\"Survival Probability\")"
   ]
  },
  {
   "cell_type": "markdown",
   "id": "06dbb398",
   "metadata": {},
   "source": [
    "Because of the low number of passenger that have a cabin, survival probabilities have an important standard deviation and we can't distinguish between survival probability of passengers in the different desks.\n",
    "- 적은 수의 선실 승객때문에, 생존확률은 표준편차 중요하고, 우리는 다른 데스크의 승객의 생존확률 사이를 구별할수 없다\n",
    "\n",
    "But we can see that passengers with a cabin have generally more chance to survive than passengers without (X).\n",
    "- 그러나 우리는 (X)선실이없는 승객보다 선실의 승객들이 대부분 생존확률이 높았다는것을 볼 수 있다.\n",
    "\n",
    "It is particularly true for cabin B, C, D, E and F.\n",
    "- 선실 B, C, D, E, F가 특히 더 그렇습니다."
   ]
  },
  {
   "cell_type": "code",
   "execution_count": 55,
   "id": "5c304a9b",
   "metadata": {},
   "outputs": [],
   "source": [
    "dataset = pd.get_dummies(dataset, columns = [\"Cabin\"],prefix=\"Cabin\")"
   ]
  },
  {
   "cell_type": "markdown",
   "id": "fe4765fb",
   "metadata": {},
   "source": [
    "### 5.4 Ticket"
   ]
  },
  {
   "cell_type": "code",
   "execution_count": 56,
   "id": "79efe0fe",
   "metadata": {},
   "outputs": [
    {
     "data": {
      "text/plain": [
       "0           A/5 21171\n",
       "1            PC 17599\n",
       "2    STON/O2. 3101282\n",
       "3              113803\n",
       "4              373450\n",
       "Name: Ticket, dtype: object"
      ]
     },
     "execution_count": 56,
     "metadata": {},
     "output_type": "execute_result"
    }
   ],
   "source": [
    "dataset[\"Ticket\"].head()"
   ]
  },
  {
   "cell_type": "markdown",
   "id": "2262bf38",
   "metadata": {},
   "source": [
    "It could mean that tickets sharing the same prefixes could be booked for cabins placed together. It could therefore lead to the actual placement of the cabins within the ship.\n",
    "- 동일한 접두사를 공유하는 티켓이 함께 배치된 선실에 대해 예약될 수 있음을 의미 할 수 있다. 따라서 선박 내의 선실의 실제 배치로 이어질 수 있다.\n",
    "\n",
    "Tickets with same prefixes may have a similar class and survival.\n",
    "- 접두어가 같은 티켓은 클래스와 생존이 비슷할 수 있다.\n",
    "\n",
    "So i decided to replace the Ticket feature column by the ticket prefixe. Which may be more informative.\n",
    "- 그래서 티켓의 접두사로 티켓의 피쳐를 바꾸기로 정했습니다. 더 많은 정보를 얻을수 있습니다."
   ]
  },
  {
   "cell_type": "code",
   "execution_count": 57,
   "id": "a31e72b7",
   "metadata": {},
   "outputs": [
    {
     "data": {
      "text/plain": [
       "0        A5\n",
       "1        PC\n",
       "2    STONO2\n",
       "3         X\n",
       "4         X\n",
       "Name: Ticket, dtype: object"
      ]
     },
     "execution_count": 57,
     "metadata": {},
     "output_type": "execute_result"
    }
   ],
   "source": [
    "## Treat Ticket by extracting the ticket prefix. When there is no prefix it returns X. \n",
    "\n",
    "Ticket = []\n",
    "for i in list(dataset.Ticket):\n",
    "    if not i.isdigit() :\n",
    "        Ticket.append(i.replace(\".\",\"\").replace(\"/\",\"\").strip().split(' ')[0]) #Take prefix\n",
    "    else:\n",
    "        Ticket.append(\"X\")\n",
    "        \n",
    "dataset[\"Ticket\"] = Ticket\n",
    "dataset[\"Ticket\"].head()"
   ]
  },
  {
   "cell_type": "code",
   "execution_count": 58,
   "id": "b7dd7aa0",
   "metadata": {},
   "outputs": [],
   "source": [
    "dataset = pd.get_dummies(dataset, columns = [\"Ticket\"], prefix=\"T\")"
   ]
  },
  {
   "cell_type": "code",
   "execution_count": 59,
   "id": "e2f11b61",
   "metadata": {},
   "outputs": [],
   "source": [
    "# Create categorical values for Pclass\n",
    "dataset[\"Pclass\"] = dataset[\"Pclass\"].astype(\"category\")\n",
    "dataset = pd.get_dummies(dataset, columns = [\"Pclass\"],prefix=\"Pc\")"
   ]
  },
  {
   "cell_type": "code",
   "execution_count": 60,
   "id": "1b749f60",
   "metadata": {},
   "outputs": [],
   "source": [
    "# Drop useless variables \n",
    "dataset.drop(labels = [\"PassengerId\"], axis = 1, inplace = True)"
   ]
  },
  {
   "cell_type": "code",
   "execution_count": 61,
   "id": "47d8d436",
   "metadata": {},
   "outputs": [
    {
     "data": {
      "text/html": [
       "<div>\n",
       "<style scoped>\n",
       "    .dataframe tbody tr th:only-of-type {\n",
       "        vertical-align: middle;\n",
       "    }\n",
       "\n",
       "    .dataframe tbody tr th {\n",
       "        vertical-align: top;\n",
       "    }\n",
       "\n",
       "    .dataframe thead th {\n",
       "        text-align: right;\n",
       "    }\n",
       "</style>\n",
       "<table border=\"1\" class=\"dataframe\">\n",
       "  <thead>\n",
       "    <tr style=\"text-align: right;\">\n",
       "      <th></th>\n",
       "      <th>Survived</th>\n",
       "      <th>Sex</th>\n",
       "      <th>Age</th>\n",
       "      <th>SibSp</th>\n",
       "      <th>Parch</th>\n",
       "      <th>Fare</th>\n",
       "      <th>Fsize</th>\n",
       "      <th>Single</th>\n",
       "      <th>SmallF</th>\n",
       "      <th>MedF</th>\n",
       "      <th>...</th>\n",
       "      <th>T_STONO</th>\n",
       "      <th>T_STONO2</th>\n",
       "      <th>T_STONOQ</th>\n",
       "      <th>T_SWPP</th>\n",
       "      <th>T_WC</th>\n",
       "      <th>T_WEP</th>\n",
       "      <th>T_X</th>\n",
       "      <th>Pc_1</th>\n",
       "      <th>Pc_2</th>\n",
       "      <th>Pc_3</th>\n",
       "    </tr>\n",
       "  </thead>\n",
       "  <tbody>\n",
       "    <tr>\n",
       "      <th>0</th>\n",
       "      <td>0.0</td>\n",
       "      <td>0</td>\n",
       "      <td>22.0</td>\n",
       "      <td>1</td>\n",
       "      <td>0</td>\n",
       "      <td>1.981001</td>\n",
       "      <td>2</td>\n",
       "      <td>0</td>\n",
       "      <td>1</td>\n",
       "      <td>0</td>\n",
       "      <td>...</td>\n",
       "      <td>0</td>\n",
       "      <td>0</td>\n",
       "      <td>0</td>\n",
       "      <td>0</td>\n",
       "      <td>0</td>\n",
       "      <td>0</td>\n",
       "      <td>0</td>\n",
       "      <td>0</td>\n",
       "      <td>0</td>\n",
       "      <td>1</td>\n",
       "    </tr>\n",
       "    <tr>\n",
       "      <th>1</th>\n",
       "      <td>1.0</td>\n",
       "      <td>1</td>\n",
       "      <td>38.0</td>\n",
       "      <td>1</td>\n",
       "      <td>0</td>\n",
       "      <td>4.266662</td>\n",
       "      <td>2</td>\n",
       "      <td>0</td>\n",
       "      <td>1</td>\n",
       "      <td>0</td>\n",
       "      <td>...</td>\n",
       "      <td>0</td>\n",
       "      <td>0</td>\n",
       "      <td>0</td>\n",
       "      <td>0</td>\n",
       "      <td>0</td>\n",
       "      <td>0</td>\n",
       "      <td>0</td>\n",
       "      <td>1</td>\n",
       "      <td>0</td>\n",
       "      <td>0</td>\n",
       "    </tr>\n",
       "    <tr>\n",
       "      <th>2</th>\n",
       "      <td>1.0</td>\n",
       "      <td>1</td>\n",
       "      <td>26.0</td>\n",
       "      <td>0</td>\n",
       "      <td>0</td>\n",
       "      <td>2.070022</td>\n",
       "      <td>1</td>\n",
       "      <td>1</td>\n",
       "      <td>0</td>\n",
       "      <td>0</td>\n",
       "      <td>...</td>\n",
       "      <td>0</td>\n",
       "      <td>1</td>\n",
       "      <td>0</td>\n",
       "      <td>0</td>\n",
       "      <td>0</td>\n",
       "      <td>0</td>\n",
       "      <td>0</td>\n",
       "      <td>0</td>\n",
       "      <td>0</td>\n",
       "      <td>1</td>\n",
       "    </tr>\n",
       "    <tr>\n",
       "      <th>3</th>\n",
       "      <td>1.0</td>\n",
       "      <td>1</td>\n",
       "      <td>35.0</td>\n",
       "      <td>1</td>\n",
       "      <td>0</td>\n",
       "      <td>3.972177</td>\n",
       "      <td>2</td>\n",
       "      <td>0</td>\n",
       "      <td>1</td>\n",
       "      <td>0</td>\n",
       "      <td>...</td>\n",
       "      <td>0</td>\n",
       "      <td>0</td>\n",
       "      <td>0</td>\n",
       "      <td>0</td>\n",
       "      <td>0</td>\n",
       "      <td>0</td>\n",
       "      <td>1</td>\n",
       "      <td>1</td>\n",
       "      <td>0</td>\n",
       "      <td>0</td>\n",
       "    </tr>\n",
       "    <tr>\n",
       "      <th>4</th>\n",
       "      <td>0.0</td>\n",
       "      <td>0</td>\n",
       "      <td>35.0</td>\n",
       "      <td>0</td>\n",
       "      <td>0</td>\n",
       "      <td>2.085672</td>\n",
       "      <td>1</td>\n",
       "      <td>1</td>\n",
       "      <td>0</td>\n",
       "      <td>0</td>\n",
       "      <td>...</td>\n",
       "      <td>0</td>\n",
       "      <td>0</td>\n",
       "      <td>0</td>\n",
       "      <td>0</td>\n",
       "      <td>0</td>\n",
       "      <td>0</td>\n",
       "      <td>1</td>\n",
       "      <td>0</td>\n",
       "      <td>0</td>\n",
       "      <td>1</td>\n",
       "    </tr>\n",
       "  </tbody>\n",
       "</table>\n",
       "<p>5 rows × 67 columns</p>\n",
       "</div>"
      ],
      "text/plain": [
       "   Survived  Sex   Age  SibSp  Parch      Fare  Fsize  Single  SmallF  MedF  \\\n",
       "0       0.0    0  22.0      1      0  1.981001      2       0       1     0   \n",
       "1       1.0    1  38.0      1      0  4.266662      2       0       1     0   \n",
       "2       1.0    1  26.0      0      0  2.070022      1       1       0     0   \n",
       "3       1.0    1  35.0      1      0  3.972177      2       0       1     0   \n",
       "4       0.0    0  35.0      0      0  2.085672      1       1       0     0   \n",
       "\n",
       "   ...  T_STONO  T_STONO2  T_STONOQ  T_SWPP  T_WC  T_WEP  T_X  Pc_1  Pc_2  \\\n",
       "0  ...        0         0         0       0     0      0    0     0     0   \n",
       "1  ...        0         0         0       0     0      0    0     1     0   \n",
       "2  ...        0         1         0       0     0      0    0     0     0   \n",
       "3  ...        0         0         0       0     0      0    1     1     0   \n",
       "4  ...        0         0         0       0     0      0    1     0     0   \n",
       "\n",
       "   Pc_3  \n",
       "0     1  \n",
       "1     0  \n",
       "2     1  \n",
       "3     0  \n",
       "4     1  \n",
       "\n",
       "[5 rows x 67 columns]"
      ]
     },
     "execution_count": 61,
     "metadata": {},
     "output_type": "execute_result"
    }
   ],
   "source": [
    "dataset.head()"
   ]
  },
  {
   "cell_type": "markdown",
   "id": "f577dea6",
   "metadata": {},
   "source": [
    "## 6. MODELING"
   ]
  },
  {
   "cell_type": "code",
   "execution_count": 62,
   "id": "7fcac19b",
   "metadata": {},
   "outputs": [],
   "source": [
    "## Separate train dataset and test dataset\n",
    "## train, test 데이터셋 나누기\n",
    "\n",
    "train = dataset[:train_len]\n",
    "test = dataset[train_len:]\n",
    "test.drop(labels=[\"Survived\"],axis = 1,inplace=True)"
   ]
  },
  {
   "cell_type": "code",
   "execution_count": 63,
   "id": "ad0371e0",
   "metadata": {},
   "outputs": [],
   "source": [
    "## Separate train features and label \n",
    "## train 피쳐 및 이름 나누기\n",
    "\n",
    "train[\"Survived\"] = train[\"Survived\"].astype(int)\n",
    "\n",
    "Y_train = train[\"Survived\"]\n",
    "\n",
    "X_train = train.drop(labels = [\"Survived\"],axis = 1)"
   ]
  },
  {
   "cell_type": "markdown",
   "id": "bd558fc4",
   "metadata": {},
   "source": [
    "### 6.1 Simple modeling"
   ]
  },
  {
   "cell_type": "markdown",
   "id": "23aa7d3a",
   "metadata": {},
   "source": [
    "#### 6.1.1 Cross validate models 교차 검증 모델"
   ]
  },
  {
   "cell_type": "markdown",
   "id": "2b65e831",
   "metadata": {},
   "source": [
    "I compared 10 popular classifiers and evaluate the mean accuracy of each of them by a stratified kfold cross validation procedure.\n",
    "- 나는 10개의 인기있는 classifiers를 비교했다, 계층화된 kfold 교차 검증 절차를 통해 각 분류기의 평균 정확도를 평가 했다.\n",
    "  \n",
    "  \n",
    "- SVC\n",
    "- Decision Tree\n",
    "- AdaBoost\n",
    "- Random Forest\n",
    "- Extra Trees\n",
    "- Gradient Boosting ##GBM\n",
    "- Multiple layer perceptron (neural network) ##MLP\n",
    "- KNN\n",
    "- Logistic regression\n",
    "- Linear Discriminant Analysis ##LDA"
   ]
  },
  {
   "cell_type": "code",
   "execution_count": 64,
   "id": "022b1204",
   "metadata": {},
   "outputs": [],
   "source": [
    "# Cross validate model with Kfold stratified cross val\n",
    "## 교차 검증 모델 , KFold 계층화된 교차\n",
    "kfold = StratifiedKFold(n_splits=10)"
   ]
  },
  {
   "cell_type": "code",
   "execution_count": 65,
   "id": "8ee7e881",
   "metadata": {},
   "outputs": [
    {
     "name": "stdout",
     "output_type": "stream",
     "text": [
      "CPU times: user 84.7 ms, sys: 44.5 ms, total: 129 ms\n",
      "Wall time: 3.09 s\n"
     ]
    },
    {
     "data": {
      "image/png": "[encoded data removed]",
      "text/plain": [
       "<Figure size 432x288 with 1 Axes>"
      ]
     },
     "metadata": {},
     "output_type": "display_data"
    }
   ],
   "source": [
    "%%time\n",
    "# Modeling step Test differents algorithms\n",
    "random_state = 2\n",
    "classifiers = []\n",
    "classifiers.append(SVC(random_state=random_state))\n",
    "classifiers.append(DecisionTreeClassifier(random_state=random_state))\n",
    "classifiers.append(AdaBoostClassifier(DecisionTreeClassifier(random_state=random_state), random_state=random_state, learning_rate=0.1))\n",
    "classifiers.append(RandomForestClassifier(random_state=random_state))\n",
    "classifiers.append(ExtraTreesClassifier(random_state=random_state))\n",
    "classifiers.append(GradientBoostingClassifier(random_state=random_state))\n",
    "classifiers.append(MLPClassifier(random_state=random_state))\n",
    "classifiers.append(KNeighborsClassifier())\n",
    "classifiers.append(LogisticRegression(random_state=random_state))\n",
    "classifiers.append(LinearDiscriminantAnalysis())\n",
    "\n",
    "cv_results = []\n",
    "for classifier in classifiers :\n",
    "    cv_results.append(cross_val_score(classifier, X_train, y = Y_train, scoring = 'accuracy', cv = kfold, n_jobs=4))\n",
    "\n",
    "cv_means = []\n",
    "cv_std = []\n",
    "for cv_result in cv_results:\n",
    "    cv_means.append(cv_result.mean())\n",
    "    cv_std.append(cv_result.std())\n",
    "\n",
    "cv_res = pd.DataFrame({\"CrossValMeans\":cv_means,\"CrossValerrors\": cv_std,\n",
    "                       \"Algorithm\":[\"SVC\",\"DecisionTree\",\"AdaBoost\",\n",
    "                                    \"RandomForest\",\"ExtraTrees\",\"GradientBoosting\",\n",
    "                                    \"MultipleLayerPerceptron\",\"KNeighboors\",\"LogisticRegression\"\n",
    "                                    ,\"LinearDiscriminantAnalysis\"]})\n",
    "\n",
    "g = sns.barplot(\"CrossValMeans\",\"Algorithm\",data = cv_res, palette=\"Set3\",orient = \"h\",**{'xerr':cv_std})\n",
    "g.set_xlabel(\"Mean Accuracy\")\n",
    "g = g.set_title(\"Cross validation scores\")"
   ]
  },
  {
   "cell_type": "markdown",
   "id": "7b9b3c36",
   "metadata": {},
   "source": [
    "I decided to choose the SVC, AdaBoost, RandomForest , ExtraTrees and the GradientBoosting classifiers for the ensemble modeling.\n",
    "- 나는 ensemble모델에서 SVC, AdaBoost, RandomForest, ExtraTrees, GBM 분류기를 사용하기로 했다"
   ]
  },
  {
   "cell_type": "code",
   "execution_count": null,
   "id": "d22e3e85",
   "metadata": {},
   "outputs": [],
   "source": []
  },
  {
   "cell_type": "code",
   "execution_count": null,
   "id": "f3870500",
   "metadata": {},
   "outputs": [],
   "source": []
  }
 ],
 "metadata": {
  "kernelspec": {
   "display_name": "Python 3 (ipykernel)",
   "language": "python",
   "name": "python3"
  },
  "language_info": {
   "codemirror_mode": {
    "name": "ipython",
    "version": 3
   },
   "file_extension": ".py",
   "mimetype": "text/x-python",
   "name": "python",
   "nbconvert_exporter": "python",
   "pygments_lexer": "ipython3",
   "version": "3.8.13"
  }
 },
 "nbformat": 4,
 "nbformat_minor": 5
}
